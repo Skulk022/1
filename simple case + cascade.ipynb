{
 "cells": [
  {
   "cell_type": "code",
   "execution_count": 49,
   "id": "5efd7af0-5efa-4d67-9633-516cb4420a8b",
   "metadata": {},
   "outputs": [],
   "source": [
    "import math\n",
    "import numpy as np"
   ]
  },
  {
   "cell_type": "code",
   "execution_count": null,
   "id": "4f5e5719-3f55-414e-8a9b-d1f310d541dd",
   "metadata": {},
   "outputs": [],
   "source": [
    "theta = float(input(\"Opening angle (rad)\"))\n",
    "m_a = float(input(\"Initial Mass\"))\n",
    "m_1 = float(input(\"Mass 1\"))\n",
    "m_2 = float(input(\"Mass 2\"))\n",
    "k_a = float(input(\"A momentum\")) #initial momentum in lab frame"
   ]
  },
  {
   "cell_type": "code",
   "execution_count": 45,
   "id": "dab79633-080c-4f47-91bc-85f690d9e447",
   "metadata": {},
   "outputs": [],
   "source": [
    "P_mag = (math.sqrt((m_a**4) + (m_1**4) + (m_2**4)\n",
    "                   - 2*(m_a**2)*(m_1**2) - 2*(m_a**2)*(m_2**2) - 2*(m_1**2)*(m_2**2)) \n",
    "                   / (2*m_a))                  #3 momentum magnitude of daughter particles in A frame\n",
    "E_1 = (m_a**2 + m_1**2 - m_2**2)/(2*m_a)      #energy of daughter particles in A frame\n",
    "E_2 = (m_a**2 + m_2**2 - m_1**2)/(2*m_a)\n",
    "\n",
    "E_a = math.sqrt(m_a**2 + k_a**2)            # energy of A in lab frame\n",
    "gamma = E_a / m_a\n",
    "beta = math.sqrt(1 - (1/gamma)**2)\n",
    "\n",
    "P1_4 = np.array([[E_1], [P_mag*np.cos(theta)], [P_mag*np.sin(theta)]])     #four momenta in A frame\n",
    "P2_4 = np.array([[E_2], [-P_mag*np.cos(theta)], [-P_mag*np.sin(theta)]])\n",
    "\n",
    "boost = np.array([[gamma, -beta*gamma, 0],    # A to Lab frame boost\n",
    "                  [-beta*gamma, gamma, 0], \n",
    "                  [0, 0, 1]])\n",
    "\n"
   ]
  },
  {
   "cell_type": "code",
   "execution_count": 47,
   "id": "c22f86d8-1997-4695-a40c-bd1ff0be4868",
   "metadata": {},
   "outputs": [
    {
     "name": "stdout",
     "output_type": "stream",
     "text": [
      "[[0.61611061]\n",
      " [0.9973348 ]\n",
      " [2.21636173]]\n",
      "[[ 1.61995737]\n",
      " [-1.9973348 ]\n",
      " [-2.21636173]]\n"
     ]
    }
   ],
   "source": [
    "print(P1_4_lab)\n",
    "print(P2_4_lab)"
   ]
  },
  {
   "cell_type": "code",
   "execution_count": 97,
   "id": "b815abec-dc02-4ae5-9fa4-20deb540a3ec",
   "metadata": {},
   "outputs": [],
   "source": [
    "def get_boost_2(m, p):     # from m-rest frame to m-p frame\n",
    "    E = math.sqrt(m**2 + p**2)\n",
    "    gamma = E / m\n",
    "    beta = math.sqrt(1 - (1/gamma)**2)\n",
    "\n",
    "    boost = np.array([[gamma, -beta*gamma, 0, 0], \n",
    "                      [-beta*gamma, gamma, 0, 0], \n",
    "                      [0, 0, 1, 0], \n",
    "                      [0, 0, 0, 1]])\n",
    "    return boost\n",
    "\n",
    "\n",
    "def get_boost_1(m_a, m_1, m_2):     # from m-rest frame to m-p frame\n",
    "    p = (math.sqrt(((m_a**4) + (m_1**4) + (m_2**4)\n",
    "                   - 2*(m_a**2)*(m_1**2) - 2*(m_a**2)*(m_2**2) - 2*(m_1**2)*(m_2**2)))\n",
    "                   / (2*m_a))\n",
    "    E = math.sqrt(m_a**2 + p**2)\n",
    "    gamma = E / m_a\n",
    "    beta = math.sqrt(1 - (1/gamma)**2)\n",
    "\n",
    "    boost = np.array([[gamma, -beta*gamma, 0, 0], #boost matrix aligned with x-axis\n",
    "                      [-beta*gamma, gamma, 0, 0], \n",
    "                      [0, 0, 1, 0], \n",
    "                      [0, 0, 0, 1]])\n",
    "    return boost\n",
    "\n",
    "def get_4_momentum(m_a, m_1, m_2, theta, phi):\n",
    "    p = (math.sqrt((m_a**4) + (m_1**4) + (m_2**4)\n",
    "                   - 2*(m_a**2)*(m_1**2) - 2*(m_a**2)*(m_2**2) - 2*(m_1**2)*(m_2**2)) \n",
    "                    / (2*m_a))\n",
    "    E_1 = (m_a**2 + m_1**2 - m_2**2)/(2*m_a)      #energy of daughter particles in A frame\n",
    "    E_2 = (m_a**2 + m_2**2 - m_1**2)/(2*m_a)\n",
    "\n",
    "    P1 = np.array([[E_1], [p*np.cos(theta)],  [p*np.sin(theta)*np.cos(phi)],  [p*np.sin(theta)*np.sin(phi)]])     #four momenta in A frame\n",
    "    P2 = np.array([[E_2], [-p*np.cos(theta)], [-p*np.sin(theta)*np.cos(phi)], [-p*np.sin(theta)*np.sin(phi)]])\n",
    "\n",
    "    return P1, P2"
   ]
  },
  {
   "cell_type": "code",
   "execution_count": 77,
   "id": "a7895c8a-b14b-4b39-bd17-2ebc52c20f0b",
   "metadata": {},
   "outputs": [
    {
     "name": "stdin",
     "output_type": "stream",
     "text": [
      "Initial mass:  8\n",
      "Intermediate mass:  3\n",
      "Final mass:  1\n",
      "Opening angle 1 (0-pi):  0\n",
      "Opening angle rotation 0-2pi:  0\n",
      "Opening angle 2 (0-pi):  0\n",
      "Opening angle rotation 0-2pi:  0\n",
      "Opening angle a:  0\n",
      "Initial momentum:  3\n"
     ]
    }
   ],
   "source": [
    "m_alpha = float(input(\"Initial mass: \"))\n",
    "m_a = float(input(\"Intermediate mass: \"))\n",
    "m_b = m_a\n",
    "m_1 = float(input(\"Final mass: \"))\n",
    "m_2 = m_1\n",
    "m_3 = m_1\n",
    "m_4 = m_1\n",
    "\n",
    "theta_1 = float(input(\"Opening angle 1 (0-pi): \"))     #between the momentum of particle 1 in particle a's rest frame to the boost axis of particle a in alpha's rest frame\n",
    "phi_1 = float(input(\"Opening angle rotation 0-2pi: \")) #rotation around the boost axis\n",
    "theta_2 = float(input(\"Opening angle 2 (0-pi): \"))     #between the momentum of particle 1 in particle a's rest frame to the boost axis of particle a in alpha's rest frame\n",
    "phi_2 = float(input(\"Opening angle rotation 0-2pi: \"))\n",
    "psi = float(input(\"Opening angle a: \"))\n",
    "\n",
    "l = float(input(\"Initial momentum: \"))\n",
    "\n"
   ]
  },
  {
   "cell_type": "code",
   "execution_count": 107,
   "id": "67f337b0-6a83-4785-9ad0-5f446f5d8613",
   "metadata": {},
   "outputs": [],
   "source": [
    "p1_4, p2_4 = get_4_momentum(m_a, m_1, m_2, theta_1, phi_1)\n",
    "p3_4, p4_4 = get_4_momentum(m_b, m_3, m_4, theta_2, phi_2)\n",
    "\n",
    "boost1 = get_boost_1(m_alpha, m_a, m_b)\n",
    "\n",
    "R = np.array([[1,  0,           0,           0],     #rotation into boost 2 axis\n",
    "              [0,  np.cos(psi), np.sin(psi), 0],\n",
    "              [0, -np.sin(psi), np.cos(psi), 0],\n",
    "              [0,  0,           0,            1]])\n",
    "R2 = np.array([[1,  0,           0,           0],     #rotation into boost 2 axis\n",
    "              [0,  np.cos(math.pi-psi), np.sin(math.pi-psi), 0],\n",
    "              [0, -np.sin(math.pi-psi), np.cos(math.pi-psi), 0],\n",
    "              [0,  0,           0,            1]])\n",
    "\n",
    "boost2 = get_boost_2(m_alpha, l)\n",
    "\n",
    "P1_final = np.matmul(boost2, np.matmul(R, np.matmul(boost1, p1_4)))    # boost2 * R(psi) * boost1 * P1_4 = P1_4 in lab frame\n",
    "P2_final = np.matmul(boost2, np.matmul(R, np.matmul(boost1, p2_4))) \n",
    "P3_final = np.matmul(boost2, np.matmul(R2, np.matmul(boost1, p3_4))) \n",
    "P4_final = np.matmul(boost2, np.matmul(R2, np.matmul(boost1, p4_4))) "
   ]
  },
  {
   "cell_type": "code",
   "execution_count": 109,
   "id": "a42f204d-8faa-498e-b88f-dc0b7ab73205",
   "metadata": {},
   "outputs": [
    {
     "name": "stdout",
     "output_type": "stream",
     "text": [
      "[[1.03687179]\n",
      " [0.27404945]\n",
      " [0.        ]\n",
      " [0.        ]]\n",
      "[[ 2.70986146]\n",
      " [-2.51860063]\n",
      " [ 0.        ]\n",
      " [ 0.        ]]\n",
      "[[ 1.54800568e+00]\n",
      " [-1.18166052e+00]\n",
      " [-8.34611317e-17]\n",
      " [ 0.00000000e+00]]\n",
      "[[1.45461001e+00]\n",
      " [1.05635707e+00]\n",
      " [2.04965289e-16]\n",
      " [0.00000000e+00]]\n"
     ]
    }
   ],
   "source": [
    "print(P1_final)\n",
    "print(P2_final)\n",
    "print(P3_final)\n",
    "print(P4_final)"
   ]
  },
  {
   "cell_type": "code",
   "execution_count": null,
   "id": "06961d1e-77bb-43da-8fe6-df84be648e5d",
   "metadata": {},
   "outputs": [],
   "source": []
  }
 ],
 "metadata": {
  "kernelspec": {
   "display_name": "Python 3 (ipykernel)",
   "language": "python",
   "name": "python3"
  },
  "language_info": {
   "codemirror_mode": {
    "name": "ipython",
    "version": 3
   },
   "file_extension": ".py",
   "mimetype": "text/x-python",
   "name": "python",
   "nbconvert_exporter": "python",
   "pygments_lexer": "ipython3",
   "version": "3.12.4"
  }
 },
 "nbformat": 4,
 "nbformat_minor": 5
}
