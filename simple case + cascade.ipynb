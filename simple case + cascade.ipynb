{
 "cells": [
  {
   "cell_type": "code",
   "execution_count": 1,
   "id": "5efd7af0-5efa-4d67-9633-516cb4420a8b",
   "metadata": {},
   "outputs": [],
   "source": [
    "import math\n",
    "import numpy as np"
   ]
  },
  {
   "cell_type": "code",
   "execution_count": 3,
   "id": "4f5e5719-3f55-414e-8a9b-d1f310d541dd",
   "metadata": {},
   "outputs": [],
   "source": [
    "theta = 1\n",
    "m_a = 3\n",
    "m_1 = 1\n",
    "m_2 = m_1\n",
    "k_a = 2 #initial momentum in lab frame"
   ]
  },
  {
   "cell_type": "code",
   "execution_count": 5,
   "id": "dab79633-080c-4f47-91bc-85f690d9e447",
   "metadata": {},
   "outputs": [],
   "source": [
    "P_mag = (math.sqrt((m_a**4) + (m_1**4) + (m_2**4)\n",
    "                   - 2*(m_a**2)*(m_1**2) - 2*(m_a**2)*(m_2**2) - 2*(m_1**2)*(m_2**2)) \n",
    "                   / (2*m_a))                  #3 momentum magnitude of daughter particles in A frame\n",
    "E_1 = (m_a**2 + m_1**2 - m_2**2)/(2*m_a)      #energy of daughter particles in A frame\n",
    "E_2 = (m_a**2 + m_2**2 - m_1**2)/(2*m_a)\n",
    "\n",
    "E_a = math.sqrt(m_a**2 + k_a**2)            # energy of A in lab frame\n",
    "gamma = E_a / m_a\n",
    "beta = math.sqrt(1 - (1/gamma)**2)\n",
    "\n",
    "P1_4 = np.array([[E_1], [P_mag*np.cos(theta)], [P_mag*np.sin(theta)]])     #four momenta in A frame\n",
    "P2_4 = np.array([[E_2], [-P_mag*np.cos(theta)], [-P_mag*np.sin(theta)]])\n",
    "\n",
    "boost = np.array([[gamma, -beta*gamma, 0],    # A to Lab frame boost\n",
    "                  [-beta*gamma, gamma, 0], \n",
    "                  [0, 0, 1]])\n",
    "\n",
    "P1_4_lab = np.matmul(boost, P1_4)\n",
    "P2_4_lab = np.matmul(boost, P2_4)"
   ]
  },
  {
   "cell_type": "code",
   "execution_count": 7,
   "id": "c22f86d8-1997-4695-a40c-bd1ff0be4868",
   "metadata": {},
   "outputs": [
    {
     "name": "stdout",
     "output_type": "stream",
     "text": [
      "[[ 1.40005808]\n",
      " [-0.27399059]\n",
      " [ 0.94079316]]\n",
      "[[ 2.2054932 ]\n",
      " [-1.72600941]\n",
      " [-0.94079316]]\n"
     ]
    }
   ],
   "source": [
    "print(P1_4_lab)\n",
    "print(P2_4_lab)"
   ]
  },
  {
   "cell_type": "code",
   "execution_count": 79,
   "id": "b815abec-dc02-4ae5-9fa4-20deb540a3ec",
   "metadata": {},
   "outputs": [],
   "source": [
    "def get_boost_2(m, p):     # from m-rest frame to m-p frame\n",
    "    E = math.sqrt(m**2 + p**2)\n",
    "    gamma = E / m\n",
    "    beta = math.sqrt(1 - (1/gamma)**2)\n",
    "\n",
    "    boost = np.array([[gamma, -beta*gamma, 0, 0], \n",
    "                      [-beta*gamma, gamma, 0, 0], \n",
    "                      [0, 0, 1, 0], \n",
    "                      [0, 0, 0, 1]])\n",
    "    return boost\n",
    "\n",
    "\n",
    "def get_boost_1(m_a, m_1, m_2):     # from m-rest frame to m-p frame\n",
    "    p = (math.sqrt(((m_a**4) + (m_1**4) + (m_2**4)\n",
    "                   - 2*(m_a**2)*(m_1**2) - 2*(m_a**2)*(m_2**2) - 2*(m_1**2)*(m_2**2)))\n",
    "                   / (2*m_a))\n",
    "    E = math.sqrt(m_1**2 + p**2)  \n",
    "    gamma = E / m_1\n",
    "    beta = math.sqrt(1 - (1/gamma)**2)\n",
    "\n",
    "    boost = np.array([[gamma, -beta*gamma, 0, 0], #boost matrix aligned with x-axis\n",
    "                      [-beta*gamma, gamma, 0, 0], \n",
    "                      [0, 0, 1, 0], \n",
    "                      [0, 0, 0, 1]])\n",
    "    return boost\n",
    "\n",
    "def get_4_momentum(m_a, m_1, m_2, theta, phi):\n",
    "    p = (math.sqrt((m_a**4) + (m_1**4) + (m_2**4)\n",
    "                   - 2*(m_a**2)*(m_1**2) - 2*(m_a**2)*(m_2**2) - 2*(m_1**2)*(m_2**2)) \n",
    "                    / (2*m_a))\n",
    "    E_1 = (m_a**2 + m_1**2 - m_2**2)/(2*m_a)      #energy of daughter particles in A frame\n",
    "    E_2 = (m_a**2 + m_2**2 - m_1**2)/(2*m_a)\n",
    "\n",
    "    P1 = np.array([[E_1], [p*np.cos(theta)],  [p*np.sin(theta)*np.cos(phi)],  [p*np.sin(theta)*np.sin(phi)]])     #four momenta in A frame\n",
    "    P2 = np.array([[E_2], [-p*np.cos(theta)], [-p*np.sin(theta)*np.cos(phi)], [-p*np.sin(theta)*np.sin(phi)]])\n",
    "\n",
    "    return P1, P2"
   ]
  },
  {
   "cell_type": "code",
   "execution_count": 81,
   "id": "a7895c8a-b14b-4b39-bd17-2ebc52c20f0b",
   "metadata": {},
   "outputs": [],
   "source": [
    "m_alpha = 8\n",
    "m_a = 3\n",
    "m_b = m_a\n",
    "m_1 = 1\n",
    "m_2 = m_1\n",
    "m_3 = m_1\n",
    "m_4 = m_1\n",
    "\n",
    "theta_1 = 0     #between the momentum of particle 1 in particle a's rest frame to the boost axis of particle a in alpha's rest frame\n",
    "phi_1   = 0     #rotation around the boost axis\n",
    "theta_2 = 1     #between the momentum of particle 1 in particle a's rest frame to the boost axis of particle a in alpha's rest frame\n",
    "phi_2   = 0\n",
    "psi     = 0\n",
    "\n",
    "l = 3"
   ]
  },
  {
   "cell_type": "code",
   "execution_count": 83,
   "id": "67f337b0-6a83-4785-9ad0-5f446f5d8613",
   "metadata": {},
   "outputs": [],
   "source": [
    "p1_4, p2_4 = get_4_momentum(m_a, m_1, m_2, theta_1, phi_1)\n",
    "p3_4, p4_4 = get_4_momentum(m_b, m_3, m_4, theta_2, phi_2)\n",
    "\n",
    "boost1 = get_boost_1(m_alpha, m_a, m_b)\n",
    "\n",
    "R = np.array([[1,  0,           0,           0],     #rotation into boost 2 axis\n",
    "              [0,  np.cos(psi), np.sin(psi), 0],\n",
    "              [0, -np.sin(psi), np.cos(psi), 0],\n",
    "              [0,  0,           0,            1]])\n",
    "R2 = np.array([[1,  0,           0,           0],     #rotation into boost 2 axis\n",
    "              [0,  np.cos(math.pi-psi), np.sin(math.pi-psi), 0],\n",
    "              [0, -np.sin(math.pi-psi), np.cos(math.pi-psi), 0],\n",
    "              [0,  0,           0,            1]])\n",
    "\n",
    "boost2 = get_boost_2(m_alpha, l)\n",
    "\n",
    "P1_final = np.matmul(boost2, np.matmul(R,  np.matmul(boost1, p1_4)))    # boost2 * R(psi) * boost1 * P1_4 = P1_4 in lab frame\n",
    "P2_final = np.matmul(boost2, np.matmul(R,  np.matmul(boost1, p2_4))) \n",
    "P3_final = np.matmul(boost2, np.matmul(R2, np.matmul(boost1, p3_4))) \n",
    "P4_final = np.matmul(boost2, np.matmul(R2, np.matmul(boost1, p4_4))) "
   ]
  },
  {
   "cell_type": "code",
   "execution_count": 85,
   "id": "a42f204d-8faa-498e-b88f-dc0b7ab73205",
   "metadata": {},
   "outputs": [
    {
     "name": "stdout",
     "output_type": "stream",
     "text": [
      "[[ 1.01999965]\n",
      " [-0.20099574]\n",
      " [ 0.        ]\n",
      " [ 0.        ]]\n",
      "[[ 4.24415896]\n",
      " [-4.1246679 ]\n",
      " [ 0.        ]\n",
      " [ 0.        ]]\n",
      "[[ 1.37298855]\n",
      " [ 0.0024062 ]\n",
      " [-0.94079316]\n",
      " [ 0.        ]]\n",
      "[[1.90685658]\n",
      " [1.32325744]\n",
      " [0.94079316]\n",
      " [0.        ]]\n"
     ]
    }
   ],
   "source": [
    "print(P1_final)\n",
    "print(P2_final)\n",
    "print(P3_final)\n",
    "print(P4_final)"
   ]
  },
  {
   "cell_type": "code",
   "execution_count": 31,
   "id": "20b07a35-3845-40e9-8048-dcd0bb68c138",
   "metadata": {},
   "outputs": [
    {
     "name": "stdout",
     "output_type": "stream",
     "text": [
      "[[1.5       ]\n",
      " [1.11803399]\n",
      " [0.        ]\n",
      " [0.        ]]\n",
      "[[ 1.5       ]\n",
      " [-1.11803399]\n",
      " [-0.        ]\n",
      " [-0.        ]]\n"
     ]
    }
   ],
   "source": [
    "print(p1_4)\n",
    "print(p2_4)"
   ]
  },
  {
   "cell_type": "code",
   "execution_count": 75,
   "id": "06961d1e-77bb-43da-8fe6-df84be648e5d",
   "metadata": {},
   "outputs": [],
   "source": [
    "from scipy.integrate import quad\n",
    "from scipy.integrate import simpson"
   ]
  },
  {
   "cell_type": "code",
   "execution_count": 73,
   "id": "4f178419-9845-4e97-8f51-a7fe85dd2765",
   "metadata": {},
   "outputs": [],
   "source": [
    "def intg(psi):\n",
    "    p = np.array([[1],[2],[3],[4]])\n",
    "    R = np.array([[1,  0,           0,           0], \n",
    "                  [0,  np.cos(psi), np.sin(psi), 0],\n",
    "                  [0, -np.sin(psi), np.cos(psi), 0],\n",
    "                  [0,  0,           0,           1]])\n",
    "    P = np.matmul(R,  p)\n",
    "    return P\n"
   ]
  },
  {
   "cell_type": "code",
   "execution_count": 77,
   "id": "daf34521-5176-4f4c-94c8-1ad281b681ed",
   "metadata": {},
   "outputs": [
    {
     "name": "stderr",
     "output_type": "stream",
     "text": [
      "C:\\Users\\banna\\AppData\\Local\\Temp\\ipykernel_24540\\1439531938.py:2: DeprecationWarning: You are passing x=[0, 0.1, 0.2, 0.3, 0.4, 0.5, 0.6, 0.7, 0.8, 0.9, 1] as a positional argument. Please change your invocation to use keyword arguments. From SciPy 1.14, passing these as positional arguments will result in an error.\n",
      "  a = simpson(intg, x)\n"
     ]
    },
    {
     "ename": "IndexError",
     "evalue": "tuple index out of range",
     "output_type": "error",
     "traceback": [
      "\u001b[1;31m---------------------------------------------------------------------------\u001b[0m",
      "\u001b[1;31mIndexError\u001b[0m                                Traceback (most recent call last)",
      "Cell \u001b[1;32mIn[77], line 2\u001b[0m\n\u001b[0;32m      1\u001b[0m x\u001b[38;5;241m=\u001b[39m [\u001b[38;5;241m0\u001b[39m, \u001b[38;5;241m0.1\u001b[39m, \u001b[38;5;241m0.2\u001b[39m, \u001b[38;5;241m0.3\u001b[39m, \u001b[38;5;241m0.4\u001b[39m, \u001b[38;5;241m0.5\u001b[39m,\u001b[38;5;241m0.6\u001b[39m,\u001b[38;5;241m0.7\u001b[39m,\u001b[38;5;241m0.8\u001b[39m,\u001b[38;5;241m0.9\u001b[39m,\u001b[38;5;241m1\u001b[39m]\n\u001b[1;32m----> 2\u001b[0m a \u001b[38;5;241m=\u001b[39m simpson(intg, x)\n",
      "File \u001b[1;32m~\\anaconda3\\Lib\\site-packages\\scipy\\_lib\\deprecation.py:232\u001b[0m, in \u001b[0;36m_deprecate_positional_args.<locals>._inner_deprecate_positional_args.<locals>.inner_f\u001b[1;34m(*args, **kwargs)\u001b[0m\n\u001b[0;32m    221\u001b[0m warnings\u001b[38;5;241m.\u001b[39mwarn(\n\u001b[0;32m    222\u001b[0m     (\n\u001b[0;32m    223\u001b[0m         \u001b[38;5;124mf\u001b[39m\u001b[38;5;124m\"\u001b[39m\u001b[38;5;124mYou are passing \u001b[39m\u001b[38;5;132;01m{\u001b[39;00margs_msg\u001b[38;5;132;01m}\u001b[39;00m\u001b[38;5;124m as a positional argument. \u001b[39m\u001b[38;5;124m\"\u001b[39m\n\u001b[1;32m   (...)\u001b[0m\n\u001b[0;32m    229\u001b[0m     stacklevel\u001b[38;5;241m=\u001b[39m\u001b[38;5;241m2\u001b[39m,\n\u001b[0;32m    230\u001b[0m )\n\u001b[0;32m    231\u001b[0m kwargs\u001b[38;5;241m.\u001b[39mupdate(\u001b[38;5;28mzip\u001b[39m(sig\u001b[38;5;241m.\u001b[39mparameters, args))\n\u001b[1;32m--> 232\u001b[0m \u001b[38;5;28;01mreturn\u001b[39;00m f(\u001b[38;5;241m*\u001b[39m\u001b[38;5;241m*\u001b[39mkwargs)\n",
      "File \u001b[1;32m~\\anaconda3\\Lib\\site-packages\\scipy\\integrate\\_quadrature.py:698\u001b[0m, in \u001b[0;36msimpson\u001b[1;34m(y, x, dx, axis, even)\u001b[0m\n\u001b[0;32m    696\u001b[0m y \u001b[38;5;241m=\u001b[39m np\u001b[38;5;241m.\u001b[39masarray(y)\n\u001b[0;32m    697\u001b[0m nd \u001b[38;5;241m=\u001b[39m \u001b[38;5;28mlen\u001b[39m(y\u001b[38;5;241m.\u001b[39mshape)\n\u001b[1;32m--> 698\u001b[0m N \u001b[38;5;241m=\u001b[39m y\u001b[38;5;241m.\u001b[39mshape[axis]\n\u001b[0;32m    699\u001b[0m last_dx \u001b[38;5;241m=\u001b[39m dx\n\u001b[0;32m    700\u001b[0m first_dx \u001b[38;5;241m=\u001b[39m dx\n",
      "\u001b[1;31mIndexError\u001b[0m: tuple index out of range"
     ]
    }
   ],
   "source": [
    "\n",
    "a = quad(intg, 0, np.pi)"
   ]
  },
  {
   "cell_type": "code",
   "execution_count": 53,
   "id": "1986e86b-f8dd-463e-9b5f-5797124b1e75",
   "metadata": {},
   "outputs": [
    {
     "name": "stdout",
     "output_type": "stream",
     "text": [
      "[[1]\n",
      " [2]\n",
      " [3]\n",
      " [4]]\n"
     ]
    }
   ],
   "source": []
  },
  {
   "cell_type": "code",
   "execution_count": 59,
   "id": "7a297549-c319-469e-91ac-bbca362869e7",
   "metadata": {},
   "outputs": [
    {
     "name": "stdout",
     "output_type": "stream",
     "text": [
      "[[ 1.        ]\n",
      " [ 3.60501757]\n",
      " [-0.06203505]\n",
      " [ 4.        ]]\n"
     ]
    }
   ],
   "source": [
    "print(intg(1))"
   ]
  },
  {
   "cell_type": "code",
   "execution_count": null,
   "id": "2a5a4cc5-5053-43e2-a56b-b903ea5eea64",
   "metadata": {},
   "outputs": [],
   "source": []
  }
 ],
 "metadata": {
  "kernelspec": {
   "display_name": "Python 3 (ipykernel)",
   "language": "python",
   "name": "python3"
  },
  "language_info": {
   "codemirror_mode": {
    "name": "ipython",
    "version": 3
   },
   "file_extension": ".py",
   "mimetype": "text/x-python",
   "name": "python",
   "nbconvert_exporter": "python",
   "pygments_lexer": "ipython3",
   "version": "3.12.4"
  }
 },
 "nbformat": 4,
 "nbformat_minor": 5
}
